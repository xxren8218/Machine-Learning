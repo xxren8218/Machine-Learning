{
 "cells": [
  {
   "cell_type": "markdown",
   "metadata": {},
   "source": [
    "###  pandas生成时间序列"
   ]
  },
  {
   "cell_type": "code",
   "execution_count": 9,
   "metadata": {
    "collapsed": true
   },
   "outputs": [],
   "source": [
    "import pandas as pd\n",
    "import numpy as np\n",
    "from datetime import datetime as dt"
   ]
  },
  {
   "cell_type": "markdown",
   "metadata": {},
   "source": [
    "###  时间序列\n",
    "- 时间戳（timestamp）具体到时间点\n",
    "- 固定周期（period）\n",
    "- 时间间隔（interval）\n",
    "\n",
    "<img src=\"f1.png\" alt=\"FAO\" width=\"590\" >"
   ]
  },
  {
   "cell_type": "markdown",
   "metadata": {},
   "source": [
    "### date_range\n",
    "- 可以指定开始时间与周期\n",
    "- H：小时\n",
    "- D：天\n",
    "- M：月"
   ]
  },
  {
   "cell_type": "code",
   "execution_count": 10,
   "metadata": {},
   "outputs": [
    {
     "data": {
      "text/plain": [
       "DatetimeIndex(['2021-07-01', '2021-07-04', '2021-07-07', '2021-07-10',\n",
       "               '2021-07-13', '2021-07-16', '2021-07-19', '2021-07-22',\n",
       "               '2021-07-25', '2021-07-28'],\n",
       "              dtype='datetime64[ns]', freq='3D')"
      ]
     },
     "execution_count": 10,
     "metadata": {},
     "output_type": "execute_result"
    }
   ],
   "source": [
    "# TIMES # 2021 Jul 1 7/1/2021 1/7/2021 2021-07-01 2021/07/01都可以\n",
    "rng = pd.date_range('2021-07-01', periods = 10, freq = '3D')\n",
    "rng"
   ]
  },
  {
   "cell_type": "code",
   "execution_count": 12,
   "metadata": {},
   "outputs": [
    {
     "name": "stdout",
     "output_type": "stream",
     "text": [
      "2021-01-01    0.608358\n",
      "2021-01-02   -0.402434\n",
      "2021-01-03   -1.917616\n",
      "2021-01-04    1.568936\n",
      "2021-01-05   -0.668169\n",
      "2021-01-06   -0.148038\n",
      "2021-01-07   -0.393429\n",
      "2021-01-08    0.052060\n",
      "2021-01-09   -0.074732\n",
      "2021-01-10    1.457457\n",
      "2021-01-11   -0.106878\n",
      "2021-01-12    0.340505\n",
      "2021-01-13    0.694755\n",
      "2021-01-14    0.261571\n",
      "2021-01-15    0.231021\n",
      "2021-01-16   -0.454639\n",
      "2021-01-17   -0.313779\n",
      "2021-01-18    0.311580\n",
      "2021-01-19   -1.375962\n",
      "2021-01-20    1.450409\n",
      "Freq: D, dtype: float64\n"
     ]
    }
   ],
   "source": [
    "time=pd.Series(np.random.randn(20),\n",
    "           index=pd.date_range(dt(2021,1,1),periods=20))\n",
    "print(time)"
   ]
  },
  {
   "cell_type": "markdown",
   "metadata": {},
   "source": [
    "###  truncate过滤"
   ]
  },
  {
   "cell_type": "code",
   "execution_count": 13,
   "metadata": {},
   "outputs": [
    {
     "data": {
      "text/plain": [
       "2021-01-10    1.457457\n",
       "2021-01-11   -0.106878\n",
       "2021-01-12    0.340505\n",
       "2021-01-13    0.694755\n",
       "2021-01-14    0.261571\n",
       "2021-01-15    0.231021\n",
       "2021-01-16   -0.454639\n",
       "2021-01-17   -0.313779\n",
       "2021-01-18    0.311580\n",
       "2021-01-19   -1.375962\n",
       "2021-01-20    1.450409\n",
       "Freq: D, dtype: float64"
      ]
     },
     "execution_count": 13,
     "metadata": {},
     "output_type": "execute_result"
    }
   ],
   "source": [
    "time.truncate(before='2021-1-10') # 之前的都没有了"
   ]
  },
  {
   "cell_type": "code",
   "execution_count": 14,
   "metadata": {},
   "outputs": [
    {
     "data": {
      "text/plain": [
       "2021-01-01    0.608358\n",
       "2021-01-02   -0.402434\n",
       "2021-01-03   -1.917616\n",
       "2021-01-04    1.568936\n",
       "2021-01-05   -0.668169\n",
       "2021-01-06   -0.148038\n",
       "2021-01-07   -0.393429\n",
       "2021-01-08    0.052060\n",
       "2021-01-09   -0.074732\n",
       "2021-01-10    1.457457\n",
       "Freq: D, dtype: float64"
      ]
     },
     "execution_count": 14,
     "metadata": {},
     "output_type": "execute_result"
    }
   ],
   "source": [
    "time.truncate(after='2021-1-10') # 之后的都没了"
   ]
  },
  {
   "cell_type": "code",
   "execution_count": 15,
   "metadata": {},
   "outputs": [
    {
     "name": "stdout",
     "output_type": "stream",
     "text": [
      "0.2310208242057297\n"
     ]
    }
   ],
   "source": [
    "print(time['2021-01-15'])"
   ]
  },
  {
   "cell_type": "code",
   "execution_count": 16,
   "metadata": {},
   "outputs": [
    {
     "name": "stdout",
     "output_type": "stream",
     "text": [
      "2021-01-15    0.231021\n",
      "2021-01-16   -0.454639\n",
      "2021-01-17   -0.313779\n",
      "2021-01-18    0.311580\n",
      "2021-01-19   -1.375962\n",
      "2021-01-20    1.450409\n",
      "Freq: D, dtype: float64\n"
     ]
    }
   ],
   "source": [
    "print(time['2021-01-15':'2021-01-20'])"
   ]
  },
  {
   "cell_type": "code",
   "execution_count": 17,
   "metadata": {},
   "outputs": [
    {
     "name": "stdout",
     "output_type": "stream",
     "text": [
      "DatetimeIndex(['2020-01-31', '2020-02-29', '2020-03-31', '2020-04-30',\n",
      "               '2020-05-31', '2020-06-30', '2020-07-31', '2020-08-31',\n",
      "               '2020-09-30', '2020-10-31', '2020-11-30', '2020-12-31'],\n",
      "              dtype='datetime64[ns]', freq='M')\n"
     ]
    }
   ],
   "source": [
    "data=pd.date_range('2020-01-01','2021-01-01',freq='M')\n",
    "print(data)"
   ]
  },
  {
   "cell_type": "markdown",
   "metadata": {},
   "source": [
    "<img src=\"f2.png\" alt=\"FAO\" width=\"590\" >"
   ]
  },
  {
   "cell_type": "code",
   "execution_count": 18,
   "metadata": {},
   "outputs": [
    {
     "data": {
      "text/plain": [
       "Timestamp('2021-07-10 00:00:00')"
      ]
     },
     "execution_count": 18,
     "metadata": {},
     "output_type": "execute_result"
    }
   ],
   "source": [
    "# 时间戳\n",
    "pd.Timestamp('2021-07-10')"
   ]
  },
  {
   "cell_type": "code",
   "execution_count": 19,
   "metadata": {},
   "outputs": [
    {
     "data": {
      "text/plain": [
       "Timestamp('2021-07-10 10:00:00')"
      ]
     },
     "execution_count": 19,
     "metadata": {},
     "output_type": "execute_result"
    }
   ],
   "source": [
    "# 可以指定更多细节\n",
    "pd.Timestamp('2021-07-10 10')"
   ]
  },
  {
   "cell_type": "code",
   "execution_count": 20,
   "metadata": {},
   "outputs": [
    {
     "data": {
      "text/plain": [
       "Timestamp('2021-07-10 10:15:00')"
      ]
     },
     "execution_count": 20,
     "metadata": {},
     "output_type": "execute_result"
    }
   ],
   "source": [
    "pd.Timestamp('2021-07-10 10:15')"
   ]
  },
  {
   "cell_type": "code",
   "execution_count": 21,
   "metadata": {
    "collapsed": true
   },
   "outputs": [],
   "source": [
    "# How much detail can you add?"
   ]
  },
  {
   "cell_type": "code",
   "execution_count": 22,
   "metadata": {
    "collapsed": true
   },
   "outputs": [],
   "source": [
    "t = pd.Timestamp('2021-07-10 10:15')"
   ]
  },
  {
   "cell_type": "code",
   "execution_count": 23,
   "metadata": {},
   "outputs": [
    {
     "data": {
      "text/plain": [
       "Period('2021-01', 'M')"
      ]
     },
     "execution_count": 23,
     "metadata": {},
     "output_type": "execute_result"
    }
   ],
   "source": [
    "# 时间区间\n",
    "pd.Period('2021-01')"
   ]
  },
  {
   "cell_type": "code",
   "execution_count": 24,
   "metadata": {},
   "outputs": [
    {
     "data": {
      "text/plain": [
       "Period('2021-01-01', 'D')"
      ]
     },
     "execution_count": 24,
     "metadata": {},
     "output_type": "execute_result"
    }
   ],
   "source": [
    "pd.Period('2021-01-01')"
   ]
  },
  {
   "cell_type": "code",
   "execution_count": 25,
   "metadata": {},
   "outputs": [
    {
     "data": {
      "text/plain": [
       "Timedelta('1 days 00:00:00')"
      ]
     },
     "execution_count": 25,
     "metadata": {},
     "output_type": "execute_result"
    }
   ],
   "source": [
    "# TIME OFFSETS 对时间的加减！\n",
    "pd.Timedelta('1 day')"
   ]
  },
  {
   "cell_type": "code",
   "execution_count": 26,
   "metadata": {},
   "outputs": [
    {
     "data": {
      "text/plain": [
       "Period('2021-01-02 10:10', 'T')"
      ]
     },
     "execution_count": 26,
     "metadata": {},
     "output_type": "execute_result"
    }
   ],
   "source": [
    "pd.Period('2021-01-01 10:10') + pd.Timedelta('1 day')"
   ]
  },
  {
   "cell_type": "code",
   "execution_count": 27,
   "metadata": {},
   "outputs": [
    {
     "data": {
      "text/plain": [
       "Timestamp('2021-01-02 10:10:00')"
      ]
     },
     "execution_count": 27,
     "metadata": {},
     "output_type": "execute_result"
    }
   ],
   "source": [
    "pd.Timestamp('2021-01-01 10:10') + pd.Timedelta('1 day')"
   ]
  },
  {
   "cell_type": "code",
   "execution_count": 28,
   "metadata": {},
   "outputs": [
    {
     "data": {
      "text/plain": [
       "Timestamp('2021-01-01 10:10:00.000000015')"
      ]
     },
     "execution_count": 28,
     "metadata": {},
     "output_type": "execute_result"
    }
   ],
   "source": [
    "pd.Timestamp('2021-01-01 10:10') + pd.Timedelta('15 ns')"
   ]
  },
  {
   "cell_type": "code",
   "execution_count": 29,
   "metadata": {
    "collapsed": true
   },
   "outputs": [],
   "source": [
    "p1 = pd.period_range('2021-01-01 10:10', freq = '25H', periods = 10)"
   ]
  },
  {
   "cell_type": "code",
   "execution_count": 30,
   "metadata": {
    "collapsed": true
   },
   "outputs": [],
   "source": [
    "p2 = pd.period_range('2021-01-01 10:10', freq = '1D1H', periods = 10)"
   ]
  },
  {
   "cell_type": "code",
   "execution_count": 31,
   "metadata": {},
   "outputs": [
    {
     "data": {
      "text/plain": [
       "PeriodIndex(['2021-01-01 10:00', '2021-01-02 11:00', '2021-01-03 12:00',\n",
       "             '2021-01-04 13:00', '2021-01-05 14:00', '2021-01-06 15:00',\n",
       "             '2021-01-07 16:00', '2021-01-08 17:00', '2021-01-09 18:00',\n",
       "             '2021-01-10 19:00'],\n",
       "            dtype='period[25H]', freq='25H')"
      ]
     },
     "execution_count": 31,
     "metadata": {},
     "output_type": "execute_result"
    }
   ],
   "source": [
    "p1"
   ]
  },
  {
   "cell_type": "code",
   "execution_count": 32,
   "metadata": {},
   "outputs": [
    {
     "data": {
      "text/plain": [
       "PeriodIndex(['2021-01-01 10:00', '2021-01-02 11:00', '2021-01-03 12:00',\n",
       "             '2021-01-04 13:00', '2021-01-05 14:00', '2021-01-06 15:00',\n",
       "             '2021-01-07 16:00', '2021-01-08 17:00', '2021-01-09 18:00',\n",
       "             '2021-01-10 19:00'],\n",
       "            dtype='period[25H]', freq='25H')"
      ]
     },
     "execution_count": 32,
     "metadata": {},
     "output_type": "execute_result"
    }
   ],
   "source": [
    "p2"
   ]
  },
  {
   "cell_type": "code",
   "execution_count": 33,
   "metadata": {},
   "outputs": [
    {
     "data": {
      "text/plain": [
       "2016-07-01    0\n",
       "2016-07-02    1\n",
       "2016-07-03    2\n",
       "2016-07-04    3\n",
       "2016-07-05    4\n",
       "2016-07-06    5\n",
       "2016-07-07    6\n",
       "2016-07-08    7\n",
       "2016-07-09    8\n",
       "2016-07-10    9\n",
       "Freq: D, dtype: int32"
      ]
     },
     "execution_count": 33,
     "metadata": {},
     "output_type": "execute_result"
    }
   ],
   "source": [
    "# 指定索引\n",
    "rng = pd.date_range('2016 Jul 1', periods = 10, freq = 'D')\n",
    "rng\n",
    "pd.Series(range(len(rng)), index = rng)"
   ]
  },
  {
   "cell_type": "code",
   "execution_count": 34,
   "metadata": {},
   "outputs": [
    {
     "data": {
      "text/plain": [
       "2021-01    0.997422\n",
       "2021-02    2.006248\n",
       "2021-03    0.606481\n",
       "Freq: M, dtype: float64"
      ]
     },
     "execution_count": 34,
     "metadata": {},
     "output_type": "execute_result"
    }
   ],
   "source": [
    "periods = [pd.Period('2021-01'), pd.Period('2021-02'), pd.Period('2021-03')]\n",
    "ts = pd.Series(np.random.randn(len(periods)), index = periods)\n",
    "ts"
   ]
  },
  {
   "cell_type": "code",
   "execution_count": 35,
   "metadata": {},
   "outputs": [
    {
     "data": {
      "text/plain": [
       "pandas.core.indexes.period.PeriodIndex"
      ]
     },
     "execution_count": 35,
     "metadata": {},
     "output_type": "execute_result"
    }
   ],
   "source": [
    "type(ts.index)"
   ]
  },
  {
   "cell_type": "code",
   "execution_count": 37,
   "metadata": {},
   "outputs": [
    {
     "data": {
      "text/plain": [
       "2021-07-10 08:00:00    0\n",
       "2021-07-10 09:00:00    1\n",
       "2021-07-10 10:00:00    2\n",
       "2021-07-10 11:00:00    3\n",
       "2021-07-10 12:00:00    4\n",
       "2021-07-10 13:00:00    5\n",
       "2021-07-10 14:00:00    6\n",
       "2021-07-10 15:00:00    7\n",
       "2021-07-10 16:00:00    8\n",
       "2021-07-10 17:00:00    9\n",
       "Freq: H, dtype: int32"
      ]
     },
     "execution_count": 37,
     "metadata": {},
     "output_type": "execute_result"
    }
   ],
   "source": [
    "# 时间戳和时间周期可以转换\n",
    "ts = pd.Series(range(10), pd.date_range('07-10-21 8:00', periods = 10, freq = 'H'))\n",
    "ts"
   ]
  },
  {
   "cell_type": "code",
   "execution_count": 38,
   "metadata": {},
   "outputs": [
    {
     "data": {
      "text/plain": [
       "2021-07-10 08:00    0\n",
       "2021-07-10 09:00    1\n",
       "2021-07-10 10:00    2\n",
       "2021-07-10 11:00    3\n",
       "2021-07-10 12:00    4\n",
       "2021-07-10 13:00    5\n",
       "2021-07-10 14:00    6\n",
       "2021-07-10 15:00    7\n",
       "2021-07-10 16:00    8\n",
       "2021-07-10 17:00    9\n",
       "Freq: H, dtype: int32"
      ]
     },
     "execution_count": 38,
     "metadata": {},
     "output_type": "execute_result"
    }
   ],
   "source": [
    "ts_period = ts.to_period()\n",
    "ts_period"
   ]
  },
  {
   "cell_type": "code",
   "execution_count": 40,
   "metadata": {},
   "outputs": [
    {
     "data": {
      "text/plain": [
       "2021-07-10 08:00    0\n",
       "2021-07-10 09:00    1\n",
       "2021-07-10 10:00    2\n",
       "2021-07-10 11:00    3\n",
       "Freq: H, dtype: int32"
      ]
     },
     "execution_count": 40,
     "metadata": {},
     "output_type": "execute_result"
    }
   ],
   "source": [
    "ts_period['2021-07-10 08:30':'2021-07-10 11:45']  # 时间周期包括8:00"
   ]
  },
  {
   "cell_type": "code",
   "execution_count": 41,
   "metadata": {},
   "outputs": [
    {
     "data": {
      "text/plain": [
       "2021-07-10 09:00:00    1\n",
       "2021-07-10 10:00:00    2\n",
       "2021-07-10 11:00:00    3\n",
       "Freq: H, dtype: int32"
      ]
     },
     "execution_count": 41,
     "metadata": {},
     "output_type": "execute_result"
    }
   ],
   "source": [
    "ts['2021-07-10 08:30':'2021-07-10 11:45']   # 时间戳不包活8:00"
   ]
  }
 ],
 "metadata": {
  "anaconda-cloud": {},
  "kernelspec": {
   "display_name": "Python 3",
   "language": "python",
   "name": "python3"
  },
  "language_info": {
   "codemirror_mode": {
    "name": "ipython",
    "version": 3
   },
   "file_extension": ".py",
   "mimetype": "text/x-python",
   "name": "python",
   "nbconvert_exporter": "python",
   "pygments_lexer": "ipython3",
   "version": "3.6.3"
  }
 },
 "nbformat": 4,
 "nbformat_minor": 1
}
